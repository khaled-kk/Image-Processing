{
  "nbformat": 4,
  "nbformat_minor": 0,
  "metadata": {
    "colab": {
      "provenance": [],
      "gpuType": "T4",
      "include_colab_link": true
    },
    "kernelspec": {
      "name": "python3",
      "display_name": "Python 3"
    },
    "language_info": {
      "name": "python"
    },
    "accelerator": "GPU"
  },
  "cells": [
    {
      "cell_type": "markdown",
      "metadata": {
        "id": "view-in-github",
        "colab_type": "text"
      },
      "source": [
        "<a href=\"https://colab.research.google.com/github/khaled-kk/Image-Processing/blob/main/IPM1S23.ipynb\" target=\"_parent\"><img src=\"https://colab.research.google.com/assets/colab-badge.svg\" alt=\"Open In Colab\"/></a>"
      ]
    },
    {
      "cell_type": "code",
      "execution_count": null,
      "metadata": {
        "id": "X8oKXPRLNeve"
      },
      "outputs": [],
      "source": [
        "from PIL import Image\n",
        "import os\n",
        "import numpy as np\n",
        "import matplotlib.pyplot as plt\n",
        "import cv2\n",
        "from skimage.io import imread\n",
        "from skimage.metrics import peak_signal_noise_ratio, structural_similarity\n",
        "import argparse"
      ]
    },
    {
      "cell_type": "code",
      "source": [
        "import tensorflow as tf\n",
        "from tensorflow.keras.applications.inception_v3 import InceptionV3, decode_predictions, preprocess_input\n",
        "from tensorflow.keras.preprocessing.image import ImageDataGenerator, load_img, img_to_array"
      ],
      "metadata": {
        "id": "9UaV1VGANnW4"
      },
      "execution_count": null,
      "outputs": []
    },
    {
      "cell_type": "code",
      "source": [
        "# Load the Inception V3 model\n",
        "model = InceptionV3(weights='imagenet', include_top=True)"
      ],
      "metadata": {
        "id": "QbRvZ298N0vD"
      },
      "execution_count": null,
      "outputs": []
    },
    {
      "cell_type": "code",
      "source": [
        "from google.colab import drive\n",
        "drive.mount('/content/drive')"
      ],
      "metadata": {
        "id": "KngnO7WLKOo-"
      },
      "execution_count": null,
      "outputs": []
    },
    {
      "cell_type": "code",
      "source": [
        "def predict_images(model_name, image_dir,QF):\n",
        "    # Load the model\n",
        "    if model_name == 'InceptionV3':\n",
        "        model = InceptionV3(weights='imagenet',include_top=True)\n",
        "        img_width, img_height = 299, 299\n",
        "    else:\n",
        "        raise ValueError('Invalid model name')\n",
        "\n",
        "    # Set up the data generator\n",
        "    datagen = ImageDataGenerator(preprocessing_function=preprocess_input)\n",
        "\n",
        "    # Get the list of image filenames\n",
        "    image_filenames = sorted(os.listdir(image_dir))\n",
        "    #image_filenames = sorted((image_dir))\n",
        "    # Create a generator for the images in batches\n",
        "    def image_batch_generator(filenames, batch_size):\n",
        "        for i in range(0, len(filenames), batch_size):\n",
        "            batch_filenames = filenames[i:i+batch_size]\n",
        "            batch_images = []\n",
        "            for filename in batch_filenames:\n",
        "                image_path = os.path.join(image_dir, filename)\n",
        "                print(image_path)\n",
        "                img = tf.keras.preprocessing.image.load_img(image_path, target_size=(img_width, img_height))\n",
        "                img = np.array(img)\n",
        "                img = preprocess_input(img)\n",
        "                batch_images.append(img)\n",
        "            yield np.array(batch_images)\n",
        "\n",
        "\n",
        "\n",
        "    # Predict the classes of the images in batches\n",
        "    predictions = []\n",
        "    for batch_images in image_batch_generator(image_filenames, batch_size=32):\n",
        "        batch_predictions = model.predict(batch_images)\n",
        "        predictions.append(batch_predictions)\n",
        "    predictions = np.concatenate(predictions)\n",
        "    decoded_preds = decode_predictions(predictions, top=5)\n",
        "    #print(decoded_preds[0][0][0])\n",
        "\n",
        "    predsTop5Index=[]\n",
        "    predsTop1Index=[]\n",
        "    for i in range(len(decoded_preds)):\n",
        "        top5 = []\n",
        "        class_index, class_name, confidence = decoded_preds[i][0]\n",
        "        predsTop1Index.append((class_index, class_name))\n",
        "        for j in range(5):\n",
        "            class_index, class_name, confidence = decoded_preds[i][j]\n",
        "            top5.append((class_index,class_name))\n",
        "        predsTop5Index.append(top5)\n",
        "\n",
        "    with open(f\"Prediction{model_name}-{QF}.txt\", 'w') as f:\n",
        "        for i in range(len(predsTop1Index)):\n",
        "            predicted_class,predicted_label =predsTop1Index[i]\n",
        "            f.write(f'{predicted_class} {predicted_label} \\n')\n",
        "\n",
        "    with open(f\"PredictionTOP5{model_name}-{QF}.txt\", 'w') as f:\n",
        "        for i in range(len(predsTop5Index)):\n",
        "            f.write(f'{predsTop5Index[i]} \\n')"
      ],
      "metadata": {
        "id": "ctuPI6xNN8rr"
      },
      "execution_count": null,
      "outputs": []
    },
    {
      "cell_type": "code",
      "source": [
        "# specify the path to the main folder\n",
        "main_folder ='/content/drive/MyDrive/Sorted QF folders/'\n",
        "#'/content/drive/MyDrive/Sorted QF folders/'\n",
        "# loop through all the files in the main folder and its subfolders\n",
        "for root, dirs, files in os.walk(main_folder):\n",
        "    for file in dirs:\n",
        "        # do something with the file\n",
        "        print(f\"Processing file: {file}\")\n",
        "        path = os.path.join(root, file)\n",
        "        predict_images('InceptionV3',path,file)"
      ],
      "metadata": {
        "id": "azgufxmJIKz_"
      },
      "execution_count": null,
      "outputs": []
    },
    {
      "cell_type": "code",
      "source": [
        "def get_label_mapping(mapping_file):\n",
        "    mapping = {}\n",
        "    with open(mapping_file) as f:\n",
        "        for line in f:\n",
        "            line = line.strip()\n",
        "            if line:\n",
        "                id_, label = line.split()\n",
        "                mapping[id_] = label\n",
        "    return mapping\n",
        "\n",
        "def get_ground_truth(ground_truth_file):\n",
        "    with open(ground_truth_file) as f:\n",
        "        ground_truth = [int(line.strip()) for line in f]\n",
        "    return ground_truth\n",
        "\n",
        "def get_labels(labels_file):\n",
        "    labels = {}\n",
        "    with open(labels_file) as f:\n",
        "        for line in f:\n",
        "            line = line.strip()\n",
        "            if line:\n",
        "                parts = line.split(None, 1)\n",
        "                id_ = parts[0]\n",
        "                label = parts[1] if len(parts) > 1 else ''\n",
        "                labels[id_] = label\n",
        "    return labels\n",
        "\n"
      ],
      "metadata": {
        "id": "fYbpyw205cAt"
      },
      "execution_count": null,
      "outputs": []
    },
    {
      "cell_type": "code",
      "source": [
        "mapping_labels = get_label_mapping('ILSVRC2012_mapping.txt')"
      ],
      "metadata": {
        "id": "IcrDQT9P56P5"
      },
      "execution_count": null,
      "outputs": []
    },
    {
      "cell_type": "code",
      "source": [
        "GT = get_ground_truth('ILSVRC2012_validation_ground_truth.txt')"
      ],
      "metadata": {
        "id": "9b_PUfsJ59Dr"
      },
      "execution_count": null,
      "outputs": []
    },
    {
      "cell_type": "code",
      "source": [
        "mapperGT = []\n",
        "for item in GT:\n",
        "    mapperGT.append(mapping_labels[str(item)])"
      ],
      "metadata": {
        "id": "bY2gvP3B5_HC"
      },
      "execution_count": null,
      "outputs": []
    },
    {
      "cell_type": "code",
      "source": [
        "def get_predicted_labels(labels_file):\n",
        "    labels = []\n",
        "    with open(labels_file) as f:\n",
        "        for line in f:\n",
        "            line = line.strip()\n",
        "            if line:\n",
        "                parts = line.split(None, 2)\n",
        "                labels.append(parts[0])\n",
        "    return labels"
      ],
      "metadata": {
        "id": "w1aDOg1Q6Jb4"
      },
      "execution_count": null,
      "outputs": []
    },
    {
      "cell_type": "code",
      "source": [
        "def get_predicted_Top5_labels(labels_file):\n",
        "    labels = []\n",
        "    with open(labels_file) as f:\n",
        "        for line in f:\n",
        "            line = line.strip()\n",
        "            if line:\n",
        "                parts = line.split(None)\n",
        "                arr = [parts[0],parts[2],parts[4],parts[6],parts[8]]\n",
        "                outarr = [s.replace(\"[('\", '').replace(\"',\", '').replace(\"('\", '') for s in arr]\n",
        "                labels.append(outarr)\n",
        "\n",
        "    return labels"
      ],
      "metadata": {
        "id": "iZUAnZpwZdPp"
      },
      "execution_count": null,
      "outputs": []
    },
    {
      "cell_type": "code",
      "source": [
        "def truePrediction(predicted_labels,mapper):\n",
        "    hits= 0\n",
        "    idx = 0\n",
        "    top1 = 0\n",
        "    for item in predicted_labels:\n",
        "        if item == mapper[idx]:\n",
        "            hits= hits+1\n",
        "        idx=idx+1\n",
        "    return hits"
      ],
      "metadata": {
        "id": "OquegJq_6bTj"
      },
      "execution_count": null,
      "outputs": []
    },
    {
      "cell_type": "code",
      "source": [
        "def findCount(QFlabels,model):\n",
        "    QFcount =[]\n",
        "    idx=0\n",
        "    for file in QFlabels:\n",
        "        filepath = 'Prediction'+model+'-'+file+'.txt'\n",
        "        predicted= get_predicted_labels(filepath)\n",
        "        count = truePrediction(predicted,mapperGT)\n",
        "        QFcount.append(count)\n",
        "    return QFcount"
      ],
      "metadata": {
        "id": "1_3vpPxE6hkl"
      },
      "execution_count": null,
      "outputs": []
    },
    {
      "cell_type": "code",
      "source": [
        "QFlabels=['QF-10','QF-20','QF-30','QF-40','QF-50','QF-60','QF-70','QF-80','QF-90','QF-100','Original']"
      ],
      "metadata": {
        "id": "Uvj1w6xx6k8t"
      },
      "execution_count": null,
      "outputs": []
    },
    {
      "cell_type": "code",
      "source": [
        "InceptionV3QFcounts =findCount(QFlabels,'InceptionV3')\n",
        "InceptionV3QFcounts"
      ],
      "metadata": {
        "id": "-4zjhgts61s2"
      },
      "execution_count": null,
      "outputs": []
    },
    {
      "cell_type": "code",
      "source": [
        "plt.figure(figsize=(12,8))\n",
        "plt.xticks(rotation=90)\n",
        "plt.bar(QFlabels, InceptionV3QFcounts)\n",
        "plt.xlabel('QF Selector')\n",
        "plt.ylabel('Image Count')\n",
        "plt.title('Bar graph of Quality Factor counts of InceptionV3')\n",
        "plt.show()"
      ],
      "metadata": {
        "id": "AilBhUrr64fw"
      },
      "execution_count": null,
      "outputs": []
    },
    {
      "cell_type": "code",
      "source": [
        "c1 =[]\n",
        "\n",
        "for i in range(len(InceptionV3QFcounts)):\n",
        "    c1.append((InceptionV3QFcounts[i]/2000)*100)\n",
        "\n",
        "\n",
        "plt.figure(figsize=(10,8))\n",
        "# Create the plot\n",
        "plt.plot(QFlabels, c1)\n",
        "\n",
        "# Add labels and title\n",
        "plt.xlabel('Quality Factor (QF)')\n",
        "plt.ylabel('Top1 Accuracy (%)')\n",
        "plt.title('Top-1 Accuracies for Original and Compressed Images')\n",
        "\n",
        "# Show the plot\n",
        "plt.show()"
      ],
      "metadata": {
        "id": "rNYHOq1q68d4"
      },
      "execution_count": null,
      "outputs": []
    },
    {
      "cell_type": "code",
      "source": [
        "def Top5(QFlabels,mapper,model):\n",
        "    Top5count =[0]*len(QFlabels)\n",
        "    idx = 0\n",
        "    for file in QFlabels:\n",
        "        filepath = 'PredictionTOP5'+model+'-'+file+'.txt'\n",
        "        predicted_labels = get_predicted_Top5_labels(filepath)\n",
        "        for i in range(len(predicted_labels)):\n",
        "            for j in range(len(predicted_labels[i])):\n",
        "                if(mapper[i]==predicted_labels[i][j]):\n",
        "                    Top5count[idx]=Top5count[idx]+1\n",
        "                    break\n",
        "        idx=idx+1\n",
        "    return Top5count"
      ],
      "metadata": {
        "id": "i5e2yYGnYUSK"
      },
      "execution_count": null,
      "outputs": []
    },
    {
      "cell_type": "code",
      "source": [
        "Top5InceptionV3 = Top5(QFlabels,mapperGT,'InceptionV3')\n",
        "\n",
        "c5 =[]\n",
        "for i in range(len(Top5InceptionV3)):\n",
        "    c5.append((Top5InceptionV3[i]/2000)*100)\n",
        "\n",
        "\n",
        "plt.figure(figsize=(10,8))\n",
        "# Create the plot\n",
        "plt.plot(QFlabels, c5)\n",
        "plt.legend('InceptionV3')\n",
        "# Add labels and title\n",
        "plt.xlabel('Quality Factor (QF)')\n",
        "plt.ylabel('Top5 Accuracy (%)')\n",
        "plt.title('Top-5 Accuracies for Original and Compressed Images')\n",
        "# Show the plot\n",
        "plt.show()"
      ],
      "metadata": {
        "id": "UspltbDUULy0"
      },
      "execution_count": null,
      "outputs": []
    },
    {
      "cell_type": "code",
      "source": [
        "def HRS_QF(QFlabels,mapper,model):\n",
        "    HRScount =[0]*len(QFlabels)\n",
        "\n",
        "    for idx in range(0,1000):\n",
        "        labelIdx=0\n",
        "        for file in QFlabels:\n",
        "            filepath = 'Prediction'+model+'-'+file+'.txt'\n",
        "            predicted_label= get_predicted_labels(filepath)\n",
        "            print(idx)\n",
        "            if predicted_label[idx] == mapper[idx]:\n",
        "                HRScount[labelIdx]= HRScount[labelIdx]+1\n",
        "                break\n",
        "            labelIdx=labelIdx+1\n",
        "    return HRScount"
      ],
      "metadata": {
        "id": "ObuqLpficRCf"
      },
      "execution_count": null,
      "outputs": []
    },
    {
      "cell_type": "code",
      "source": [
        "HRSInceptionV3QF = HRS_QF(QFlabels,mapperGT,'InceptionV3')"
      ],
      "metadata": {
        "id": "4lj748mvcfUd"
      },
      "execution_count": null,
      "outputs": []
    },
    {
      "cell_type": "code",
      "source": [
        "y = HRSInceptionV3QF\n",
        "plt.figure(figsize=(10,8))\n",
        "plt.bar(QFlabels, y)\n",
        "plt.xlabel('Quality Factors')\n",
        "plt.ylabel('Image Count')\n",
        "plt.title('Bar graph of Quality Factor counts for InceptionV3')\n",
        "plt.show()"
      ],
      "metadata": {
        "id": "QCQqmIi4dOZL"
      },
      "execution_count": null,
      "outputs": []
    },
    {
      "cell_type": "code",
      "source": [
        "def calculate_ssim(original_img, compressed_img):\n",
        "    ssim = structural_similarity(original_img, compressed_img, multichannel=True)\n",
        "    return ssim"
      ],
      "metadata": {
        "id": "WFPas7QFjNW8"
      },
      "execution_count": null,
      "outputs": []
    },
    {
      "cell_type": "code",
      "source": [
        "def psnr(img1, img2):\n",
        "    mse = np.mean((img1 - img2) ** 2)\n",
        "    if mse == 0:\n",
        "        return float('inf')\n",
        "    PIXEL_MAX = 255.0\n",
        "    return 20 * np.log10(PIXEL_MAX / np.sqrt(mse))"
      ],
      "metadata": {
        "id": "6VjOv5MjdnAl"
      },
      "execution_count": null,
      "outputs": []
    },
    {
      "cell_type": "code",
      "source": [
        "def ssim(img1, img2):\n",
        "    return calculate_ssim(img1, img2)"
      ],
      "metadata": {
        "id": "cfNIkQ4nedQo"
      },
      "execution_count": null,
      "outputs": []
    },
    {
      "cell_type": "code",
      "source": [
        "def get_compression_ratio(input_file, output_file):\n",
        "    input_size = os.path.getsize(input_file)\n",
        "    output_size = os.path.getsize(output_file)\n",
        "    return input_size / output_size"
      ],
      "metadata": {
        "id": "5QD7UM_refm3"
      },
      "execution_count": null,
      "outputs": []
    },
    {
      "cell_type": "code",
      "source": [
        "def get_image_by_index(folder_path, index):\n",
        "    # Get a list of all image files in the folder\n",
        "    image_files = sorted(os.listdir(folder_path))\n",
        "\n",
        "    # Make sure the index is within range\n",
        "    if index < 0 or index >= len(image_files):\n",
        "        raise ValueError(\"Invalid index\")\n",
        "\n",
        "    # Get the file path of the image at the given index\n",
        "    image_path = os.path.join(folder_path, image_files[index])\n",
        "\n",
        "    # Read the image file and return it\n",
        "    return image_path\n"
      ],
      "metadata": {
        "id": "_aSoKbODe2k2"
      },
      "execution_count": null,
      "outputs": []
    },
    {
      "cell_type": "code",
      "source": [
        "  def psnrImage(main_folder,index,labels):\n",
        "      originalpath = \"/content/drive/MyDrive/Sorted QF folders/Original/\"\n",
        "      originalImgpath = get_image_by_index(originalpath,index)\n",
        "      originalImg = cv2.imread(originalImgpath)\n",
        "\n",
        "      images=[]\n",
        "      psnrList =[]\n",
        "      ssimList =[]\n",
        "      # loop through all the files in the main folder and its subfolders\n",
        "      for file in labels:\n",
        "              path = os.path.join(main_folder, file)\n",
        "              imgpath = get_image_by_index(path, index)\n",
        "              img=cv2.imread(imgpath)\n",
        "              images.append(img)\n",
        "\n",
        "      for i in range(len(images)):\n",
        "          img2_resized = cv2.resize(images[i], (originalImg.shape[1], originalImg.shape[0]))\n",
        "          psnrvalue = psnr(originalImg,img2_resized)\n",
        "          ssimvalue = ssim(originalImg,img2_resized)\n",
        "          psnrList.append(psnrvalue)\n",
        "          ssimList.append(ssimvalue)\n",
        "      return psnrList,ssimList\n"
      ],
      "metadata": {
        "id": "q6Wtq7g-e60r"
      },
      "execution_count": null,
      "outputs": []
    },
    {
      "cell_type": "code",
      "source": [
        "def CRImage(main_folder,index,labels):\n",
        "    originalpath = \"/content/drive/MyDrive/Sorted QF folders/Original/\"\n",
        "    originalImgpath = get_image_by_index(originalpath,index)\n",
        "\n",
        "    images=[]\n",
        "    CRList =[]\n",
        "    # loop through all the files in the main folder and its subfolders\n",
        "    for file in labels:\n",
        "            path = os.path.join(main_folder, file)\n",
        "            imgpath = get_image_by_index(path, index)\n",
        "            images.append(imgpath)\n",
        "    for i in range(len(images)):\n",
        "        CRvalue = get_compression_ratio(images[i],originalpath)\n",
        "        CRList.append(CRvalue)\n",
        "    return CRList"
      ],
      "metadata": {
        "id": "lfvQYhkRh00S"
      },
      "execution_count": null,
      "outputs": []
    },
    {
      "cell_type": "code",
      "source": [
        "QF1labels=['QF-10','QF-20','QF-30','QF-40','QF-50','QF-60','QF-70','QF-80','QF-90','QF-100']\n",
        "Img1PSNR,Img1ssim = psnrImage(\"/content/drive/MyDrive/Sorted QF folders/\",0,QF1labe ls)\n",
        "Img2PSNR,Img2ssim = psnrImage(\"/content/drive/MyDrive/Sorted QF folders/\",1,QF1labels)\n",
        "Img3PSNR,Img3ssim= psnrImage(\"/content/drive/MyDrive/Sorted QF folders/\",2,QF1labels)\n",
        "Img4PSNR,Img4ssim = psnrImage(\"/content/drive/MyDrive/Sorted QF folders/\",3,QF1labels)\n",
        "Img651PSNR,Img651ssim = psnrImage(\"/content/drive/MyDrive/Sorted QF folders/\",651,QF1labels)\n"
      ],
      "metadata": {
        "id": "PRd2Fq41iC0r"
      },
      "execution_count": null,
      "outputs": []
    },
    {
      "cell_type": "code",
      "source": [
        "Img1CR = CRImage(\"/content/drive/MyDrive/Sorted QF folders/\",0,QF1labels)\n",
        "Img2CR = CRImage(\"/content/drive/MyDrive/Sorted QF folders/\",1,QF1labels)\n",
        "Img3CR = CRImage(\"/content/drive/MyDrive/Sorted QF folders/\",2,QF1labels)\n",
        "Img4CR = CRImage(\"/content/drive/MyDrive/Sorted QF folders/\",3,QF1labels)\n",
        "Img651CR = CRImage(\"/content/drive/MyDrive/Sorted QF folders/\",651,QF1labels)\n"
      ],
      "metadata": {
        "id": "u4_uQB2GmQCb"
      },
      "execution_count": null,
      "outputs": []
    },
    {
      "cell_type": "code",
      "source": [
        "#Plot CR vs PSNR\n",
        "plt.figure(figsize=(10,8))\n",
        "# Create the plot\n",
        "plt.plot(Img1CR, Img1PSNR, '-o')\n",
        "plt.plot(Img2CR, Img2PSNR, '-o')\n",
        "plt.plot(Img3CR, Img3PSNR, '-o')\n",
        "plt.plot(Img4CR, Img4PSNR, '-o')\n",
        "plt.plot(Img651CR, Img651PSNR, '-o')\n",
        "plt.legend(['image 1', 'image 2','image 3', 'image 4','image 651'])\n",
        "# Add labels and title\n",
        "plt.xlabel('CR')\n",
        "plt.ylabel('PSNR')\n",
        "plt.title('CR vs PSNR')\n",
        "\n",
        "# Show the plot\n",
        "plt.show()\n"
      ],
      "metadata": {
        "id": "Ec6baMYnmrgT"
      },
      "execution_count": null,
      "outputs": []
    },
    {
      "cell_type": "code",
      "source": [
        "#Plot CR vs SSIM\n",
        "plt.figure(figsize=(10,8))\n",
        "# Create the plot\n",
        "plt.plot(Img1CR, Img1ssim, '-o')\n",
        "plt.plot(Img2CR, Img2ssim, '-o')\n",
        "plt.plot(Img3CR, Img3ssim, '-o')\n",
        "plt.plot(Img4CR, Img4ssim, '-o')\n",
        "plt.plot(Img651CR, Img651ssim, '-o')\n",
        "plt.legend(['image 1', 'image 2','image 3', 'image 4','image 651'])\n",
        "# Add labels and title\n",
        "plt.xlabel('CR')\n",
        "plt.ylabel('SSIM')\n",
        "plt.title('CR vs SSIM')\n",
        "\n",
        "# Show the plot\n",
        "plt.show()\n"
      ],
      "metadata": {
        "id": "rBaNTRy3mzQu"
      },
      "execution_count": null,
      "outputs": []
    },
    {
      "cell_type": "code",
      "source": [
        "#CR vs Top-1/Top-5 Accuracy\n",
        "\n",
        "plt.figure(figsize=(10,8))\n",
        "# Create the plot\n",
        "\n",
        "plt.plot(Img1CR,c1[0:10], '-o')\n",
        "\n",
        "\n",
        "plt.plot(Img2CR,c1[0:10], '-o')\n",
        "\n",
        "plt.plot(Img3CR,c1[0:10], '-o')\n",
        "\n",
        "plt.plot(Img4CR,c1[0:10], '-o')\n",
        "\n",
        "plt.plot(Img651CR,c1[0:10], '-o')\n",
        "plt.legend(['Image 1 Inception','Image 2 Inception','Image 3 Inception','Image 4 Inception','Image 651 Inception'])\n",
        "# Add labels and title\n",
        "plt.xlabel('CR')\n",
        "plt.ylabel('TOP1 accuracy %')\n",
        "plt.title('CR vs Top-1')\n",
        "\n",
        "# Show the plot\n",
        "plt.show()"
      ],
      "metadata": {
        "id": "-3-eJ5R7nK7i"
      },
      "execution_count": null,
      "outputs": []
    },
    {
      "cell_type": "code",
      "source": [
        "#CR vs Top-5 Accuracy\n",
        "\n",
        "plt.figure(figsize=(10,8))\n",
        "# Create the plot\n",
        "plt.plot(Img1CR,c5[0:10], '-o')\n",
        "\n",
        "\n",
        "plt.plot(Img2CR,c5[0:10], '-o')\n",
        "\n",
        "plt.plot(Img3CR,c5[0:10], '-o')\n",
        "\n",
        "plt.plot(Img4CR,c5[0:10], '-o')\n",
        "\n",
        "plt.plot(Img651CR,c5[0:10], '-o')\n",
        "\n",
        "plt.legend(['Image 1 Inception','Image 2 Inception','Image 3 Inception','Image 4 Inception','Image 651 Inception'])\n",
        "# Add labels and title\n",
        "plt.xlabel('CR')\n",
        "plt.ylabel('TOP5 accuracy %')\n",
        "plt.title('CR vs Top-5')\n",
        "\n",
        "# Show the plot\n",
        "plt.show()"
      ],
      "metadata": {
        "id": "Hp7r_t4zoZOm"
      },
      "execution_count": null,
      "outputs": []
    },
    {
      "cell_type": "code",
      "source": [
        "from ctypes import c_uint16\n",
        "#PSNR vs Top-1/Top-5 Accuracy\n",
        "\n",
        "plt.figure(figsize=(10,8))\n",
        "# Create the plot\n",
        "plt.plot(Img1PSNR,c1[0:10], '-o')\n",
        "\n",
        "plt.plot(Img2PSNR,c1[0:10], '-o')\n",
        "\n",
        "plt.plot(Img3PSNR,c1[0:10], '-o')\n",
        "\n",
        "plt.plot(Img4PSNR,c1[0:10], '-o')\n",
        "\n",
        "plt.plot(Img651PSNR,c1[0:10], '-o')\n",
        "\n",
        "# Add labels and title\n",
        "plt.legend(['Image 1 Inception','Image 2 Inception','Image 3 Inception','Image 4 Inception','Image 651 Inception'])\n",
        "plt.xlabel('PSNR')\n",
        "plt.ylabel('TOP1 accuracy %')\n",
        "plt.title('PSNR vs Top-1')\n",
        "\n",
        "# Show the plot\n",
        "plt.show()"
      ],
      "metadata": {
        "id": "lW29jdzWo5fb"
      },
      "execution_count": null,
      "outputs": []
    },
    {
      "cell_type": "code",
      "source": [
        "#PSNR vs Top-1/Top-5 Accuracy\n",
        "\n",
        "plt.figure(figsize=(10,8))\n",
        "# Create the plot\n",
        "\n",
        "plt.plot(Img1PSNR,c5[0:10], '-o')\n",
        "\n",
        "plt.plot(Img2PSNR,c5[0:10], '-o')\n",
        "\n",
        "\n",
        "plt.plot(Img3PSNR,c5[0:10], '-o')\n",
        "\n",
        "\n",
        "plt.plot(Img4PSNR,c5[0:10], '-o')\n",
        "\n",
        "\n",
        "plt.plot(Img651PSNR,c5[0:10], '-o')\n",
        "\n",
        "# Add labels and title\n",
        "plt.legend(['Image 1 Inception','Image 2 Inception','Image 3 Inception','Image 4 Inception','Image 651 Inception'])\n",
        "plt.xlabel('PSNR')\n",
        "plt.ylabel('TOP5 accuracy %')\n",
        "plt.title('PSNR vs Top-5')\n",
        "\n",
        "# Show the plot\n",
        "plt.show()"
      ],
      "metadata": {
        "id": "xNlb3_Hep8IM"
      },
      "execution_count": null,
      "outputs": []
    }
  ]
}